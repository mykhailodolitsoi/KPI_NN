{
  "nbformat": 4,
  "nbformat_minor": 0,
  "metadata": {
    "colab": {
      "provenance": []
    },
    "kernelspec": {
      "name": "python3",
      "display_name": "Python 3"
    },
    "language_info": {
      "name": "python"
    }
  },
  "cells": [
    {
      "cell_type": "markdown",
      "source": [
        "##NN_lab1\n",
        "---\n",
        "###IO24, 2408\n",
        "###Доліцой Михайло"
      ],
      "metadata": {
        "id": "2xcF6vSCe6AA"
      }
    },
    {
      "cell_type": "code",
      "source": [
        "# imports\n",
        "import torch\n",
        "from torch import nn\n",
        "from torch.utils.data import TensorDataset, random_split\n",
        "import numpy as np\n",
        "import matplotlib.pyplot as plt\n",
        "\n",
        "# setup the device\n",
        "device = \"cuda\" if torch.cuda.is_available() else \"cpu\"\n",
        "device"
      ],
      "metadata": {
        "colab": {
          "base_uri": "https://localhost:8080/",
          "height": 35
        },
        "id": "VAR2tUdtgepg",
        "outputId": "2b039bb3-c001-430a-ea73-245c1b412cca"
      },
      "execution_count": 115,
      "outputs": [
        {
          "output_type": "execute_result",
          "data": {
            "text/plain": [
              "'cpu'"
            ],
            "application/vnd.google.colaboratory.intrinsic+json": {
              "type": "string"
            }
          },
          "metadata": {},
          "execution_count": 115
        }
      ]
    },
    {
      "cell_type": "code",
      "source": [
        "mode = int(input(\"Choose profile: \"))"
      ],
      "metadata": {
        "colab": {
          "base_uri": "https://localhost:8080/"
        },
        "id": "nWZaVzLv0zbW",
        "outputId": "890cb886-37cc-4e8a-8a49-a9c883457a1c"
      },
      "execution_count": 116,
      "outputs": [
        {
          "name": "stdout",
          "output_type": "stream",
          "text": [
            "Choose profile: 2\n"
          ]
        }
      ]
    },
    {
      "cell_type": "code",
      "source": [
        "# create the data\n",
        "n = 10\n",
        "x = []\n",
        "y = []\n",
        "\n",
        "for i in range(2**n):\n",
        "    binary_str = format(i, f\"0{n}b\")\n",
        "    bits = []\n",
        "\n",
        "    for char in binary_str:\n",
        "        bits.append(int(char))\n",
        "\n",
        "    x.append(bits)\n",
        "\n",
        "x = torch.tensor(x, dtype=torch.float)\n",
        "\n",
        "for row in x.int():\n",
        "    xor_result = np.bitwise_xor.reduce(row.numpy())\n",
        "\n",
        "    y.append([int(xor_result)])\n",
        "\n",
        "y = torch.tensor(y, dtype=torch.float)\n",
        "\n",
        "print(x.shape, y.shape, x[:4], y[:4])"
      ],
      "metadata": {
        "colab": {
          "base_uri": "https://localhost:8080/"
        },
        "id": "oMOIsGC3hPxu",
        "outputId": "78a4bb8e-f40e-4031-8ba9-7c4623681ff7"
      },
      "execution_count": 117,
      "outputs": [
        {
          "output_type": "stream",
          "name": "stdout",
          "text": [
            "torch.Size([1024, 10]) torch.Size([1024, 1]) tensor([[0., 0., 0., 0., 0., 0., 0., 0., 0., 0.],\n",
            "        [0., 0., 0., 0., 0., 0., 0., 0., 0., 1.],\n",
            "        [0., 0., 0., 0., 0., 0., 0., 0., 1., 0.],\n",
            "        [0., 0., 0., 0., 0., 0., 0., 0., 1., 1.]]) tensor([[0.],\n",
            "        [1.],\n",
            "        [1.],\n",
            "        [0.]])\n"
          ]
        }
      ]
    },
    {
      "cell_type": "code",
      "source": [
        "# train/test split (90/10)\n",
        "if mode == 2:\n",
        "    train_size = int(0.9 * len(x))\n",
        "\n",
        "    x_train, y_train = x[:train_size], y[:train_size]\n",
        "    x_test, y_test = x[train_size:], y[train_size:]\n",
        "\n",
        "    print(x_train.shape, y_train.shape, x_test.shape, y_test.shape)"
      ],
      "metadata": {
        "colab": {
          "base_uri": "https://localhost:8080/"
        },
        "id": "mkHrG2yICLaW",
        "outputId": "637a6018-efdc-4b4d-c3d3-d1835aec73c0"
      },
      "execution_count": 118,
      "outputs": [
        {
          "output_type": "stream",
          "name": "stdout",
          "text": [
            "torch.Size([921, 10]) torch.Size([921, 1]) torch.Size([103, 10]) torch.Size([103, 1])\n"
          ]
        }
      ]
    },
    {
      "cell_type": "code",
      "source": [
        "# create the model\n",
        "class XORNet(nn.Module):\n",
        "    def __init__(self):\n",
        "        super(XORNet, self).__init__()\n",
        "        self.layer1 = nn.Linear(n, 32)\n",
        "        self.activation1 =nn.Tanh()\n",
        "        self.layer2 = nn.Linear(32, 16)\n",
        "        self.activation2 = nn.Tanh()\n",
        "        self.layer3 = nn.Linear(16, 1)\n",
        "        self.activation3 = nn.Sigmoid()\n",
        "\n",
        "    def forward(self, x):\n",
        "        x = self.layer1(x)\n",
        "        x = self.activation1(x)\n",
        "        x = self.layer2(x)\n",
        "        x = self.activation2(x)\n",
        "        x = self.layer3(x)\n",
        "        x = self.activation3(x)\n",
        "        return x"
      ],
      "metadata": {
        "id": "fe3bb3gwh5K8"
      },
      "execution_count": 119,
      "outputs": []
    },
    {
      "cell_type": "code",
      "source": [
        "torch.manual_seed(0)\n",
        "\n",
        "# init the model\n",
        "model = XORNet()\n",
        "\n",
        "# setup the optimizer and loss function\n",
        "loss_fn = nn.MSELoss()\n",
        "optimizer = torch.optim.Adam(model.parameters(), lr=0.02)"
      ],
      "metadata": {
        "id": "yd71jr7-nYOP"
      },
      "execution_count": 120,
      "outputs": []
    },
    {
      "cell_type": "code",
      "source": [
        "# train/test loop\n",
        "epoch = 6000\n",
        "\n",
        "epoch_count = []\n",
        "loss_values = []\n",
        "test_loss_values = []\n",
        "\n",
        "if mode == 1:\n",
        "    for epoch in range(epoch):\n",
        "        model.train()\n",
        "        optimizer.zero_grad()\n",
        "        y_pred = model(x)\n",
        "        loss = loss_fn(y_pred, y)\n",
        "        loss.backward()\n",
        "        optimizer.step()\n",
        "\n",
        "        if epoch % 500 == 0:\n",
        "            epoch_count.append(epoch)\n",
        "            loss_values.append(loss)\n",
        "            model.eval()\n",
        "            with torch.inference_mode():\n",
        "                test_pred = model(x)\n",
        "                test_loss = loss_fn(test_pred, y)\n",
        "                test_loss_values.append(test_loss)\n",
        "            print(f\"Epoch: {epoch} | Test: {loss} | Test loss: {test_loss}\")\n",
        "\n",
        "if mode == 2:\n",
        "    for epoch in range(epoch):\n",
        "        model.train()\n",
        "        optimizer.zero_grad()\n",
        "        y_pred = model(x_train)\n",
        "        loss = loss_fn(y_pred, y_train)\n",
        "        loss.backward()\n",
        "        optimizer.step()\n",
        "\n",
        "        if epoch % 500 == 0:\n",
        "            epoch_count.append(epoch)\n",
        "            loss_values.append(loss)\n",
        "            model.eval()\n",
        "            with torch.inference_mode():\n",
        "                test_pred = model(x_test)\n",
        "                test_loss = loss_fn(test_pred, y_test)\n",
        "                test_loss_values.append(test_loss)\n",
        "            print(f\"Epoch: {epoch} | Test: {loss} | Test loss: {test_loss}\")"
      ],
      "metadata": {
        "colab": {
          "base_uri": "https://localhost:8080/"
        },
        "id": "BhK1uSqrpPYA",
        "outputId": "ac2380e1-fb9f-4799-aa22-cb47cbad72f1"
      },
      "execution_count": 121,
      "outputs": [
        {
          "output_type": "stream",
          "name": "stdout",
          "text": [
            "Epoch: 0 | Test: 0.25326165556907654 | Test loss: 0.27571168541908264\n",
            "Epoch: 500 | Test: 0.03577710688114166 | Test loss: 0.09598220884799957\n",
            "Epoch: 1000 | Test: 0.006626276299357414 | Test loss: 0.0439085029065609\n",
            "Epoch: 1500 | Test: 0.005792099051177502 | Test loss: 0.039114054292440414\n",
            "Epoch: 2000 | Test: 0.005733142606914043 | Test loss: 0.03885802626609802\n",
            "Epoch: 2500 | Test: 0.005712551064789295 | Test loss: 0.03881675750017166\n",
            "Epoch: 3000 | Test: 0.005702105816453695 | Test loss: 0.03880546987056732\n",
            "Epoch: 3500 | Test: 0.005695969797670841 | Test loss: 0.03880077227950096\n",
            "Epoch: 4000 | Test: 0.005692057311534882 | Test loss: 0.038798172026872635\n",
            "Epoch: 4500 | Test: 0.00568942679092288 | Test loss: 0.038796525448560715\n",
            "Epoch: 5000 | Test: 0.005687589291483164 | Test loss: 0.038795407861471176\n",
            "Epoch: 5500 | Test: 0.0056862724013626575 | Test loss: 0.038794633001089096\n"
          ]
        }
      ]
    },
    {
      "cell_type": "code",
      "source": [
        "test_pred[-5:].round(), y_test[-5:]"
      ],
      "metadata": {
        "colab": {
          "base_uri": "https://localhost:8080/"
        },
        "id": "SQkH7XLo3trW",
        "outputId": "ca064f85-cbb1-4dfc-b097-8236714c2780"
      },
      "execution_count": 122,
      "outputs": [
        {
          "output_type": "execute_result",
          "data": {
            "text/plain": [
              "(tensor([[1.],\n",
              "         [0.],\n",
              "         [1.],\n",
              "         [1.],\n",
              "         [0.]]),\n",
              " tensor([[1.],\n",
              "         [0.],\n",
              "         [1.],\n",
              "         [1.],\n",
              "         [0.]]))"
            ]
          },
          "metadata": {},
          "execution_count": 122
        }
      ]
    },
    {
      "cell_type": "code",
      "source": [
        "# plot the losses\n",
        "plt.figure(figsize=(10, 7))\n",
        "plt.plot(epoch_count, torch.tensor(loss_values).numpy(), c=\"b\", label=\"Train loss\")\n",
        "plt.plot(epoch_count, torch.tensor(test_loss_values).numpy(), c=\"r\", label=\"Test loss\")\n",
        "plt.title(\"Train/Test oss\")\n",
        "plt.xlabel(\"Epochs\")\n",
        "plt.ylabel(\"Loss\")"
      ],
      "metadata": {
        "colab": {
          "base_uri": "https://localhost:8080/",
          "height": 658
        },
        "id": "nsZFnQh0pW5O",
        "outputId": "dee0f54d-5b52-4517-dc50-a3e87cac83e9"
      },
      "execution_count": 123,
      "outputs": [
        {
          "output_type": "execute_result",
          "data": {
            "text/plain": [
              "Text(0, 0.5, 'Loss')"
            ]
          },
          "metadata": {},
          "execution_count": 123
        },
        {
          "output_type": "display_data",
          "data": {
            "text/plain": [
              "<Figure size 1000x700 with 1 Axes>"
            ],
            "image/png": "[encoded data removed]"
          },
          "metadata": {}
        }
      ]
    },
    {
      "cell_type": "code",
      "source": [],
      "metadata": {
        "id": "4NAhbdSN3ZIT"
      },
      "execution_count": 123,
      "outputs": []
    }
  ]
}